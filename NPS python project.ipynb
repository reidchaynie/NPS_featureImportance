{
 "cells": [
  {
   "cell_type": "markdown",
   "id": "15f1ded5",
   "metadata": {},
   "source": [
    "# Feature importance in predicting a negative NPS response\n",
    "\n",
    "\n",
    "## import packages\n"
   ]
  },
  {
   "cell_type": "code",
   "execution_count": 20,
   "id": "fa85e7f7",
   "metadata": {},
   "outputs": [],
   "source": [
    "import pandas as pd\n",
    "import numpy as np\n",
    "import xgboost as xgb\n",
    "from sklearn.model_selection import train_test_split\n",
    "import shap\n",
    "from pathlib import Path\n",
    "import matplotlib.pyplot as plt\n"
   ]
  },
  {
   "cell_type": "markdown",
   "id": "ed27ff66",
   "metadata": {},
   "source": [
    "## Load / Transform NPS data "
   ]
  },
  {
   "cell_type": "code",
   "execution_count": 21,
   "id": "4a4c8f3a",
   "metadata": {},
   "outputs": [
    {
     "data": {
      "text/html": [
       "<div>\n",
       "<style scoped>\n",
       "    .dataframe tbody tr th:only-of-type {\n",
       "        vertical-align: middle;\n",
       "    }\n",
       "\n",
       "    .dataframe tbody tr th {\n",
       "        vertical-align: top;\n",
       "    }\n",
       "\n",
       "    .dataframe thead th {\n",
       "        text-align: right;\n",
       "    }\n",
       "</style>\n",
       "<table border=\"1\" class=\"dataframe\">\n",
       "  <thead>\n",
       "    <tr style=\"text-align: right;\">\n",
       "      <th></th>\n",
       "      <th>LeftDetractorResponse</th>\n",
       "      <th>SingleSuborder</th>\n",
       "      <th>OrderType</th>\n",
       "      <th>OrderIsWl</th>\n",
       "      <th>OrderIsUser</th>\n",
       "      <th>OrderIsGift</th>\n",
       "      <th>OrderIsEgiftRedemption</th>\n",
       "      <th>GifterStatus</th>\n",
       "      <th>UserStatus</th>\n",
       "    </tr>\n",
       "  </thead>\n",
       "  <tbody>\n",
       "    <tr>\n",
       "      <th>0</th>\n",
       "      <td>True</td>\n",
       "      <td>True</td>\n",
       "      <td>New Platform</td>\n",
       "      <td>False</td>\n",
       "      <td>guest</td>\n",
       "      <td>self</td>\n",
       "      <td>False</td>\n",
       "      <td>never_gifter</td>\n",
       "      <td>blend_user</td>\n",
       "    </tr>\n",
       "    <tr>\n",
       "      <th>1</th>\n",
       "      <td>False</td>\n",
       "      <td>True</td>\n",
       "      <td>New Platform</td>\n",
       "      <td>False</td>\n",
       "      <td>guest</td>\n",
       "      <td>self</td>\n",
       "      <td>False</td>\n",
       "      <td>never_gifter</td>\n",
       "      <td>never_user</td>\n",
       "    </tr>\n",
       "  </tbody>\n",
       "</table>\n",
       "</div>"
      ],
      "text/plain": [
       "   LeftDetractorResponse  SingleSuborder     OrderType  OrderIsWl OrderIsUser  \\\n",
       "0                   True            True  New Platform      False       guest   \n",
       "1                  False            True  New Platform      False       guest   \n",
       "\n",
       "  OrderIsGift  OrderIsEgiftRedemption  GifterStatus  UserStatus  \n",
       "0        self                   False  never_gifter  blend_user  \n",
       "1        self                   False  never_gifter  never_user  "
      ]
     },
     "execution_count": 21,
     "metadata": {},
     "output_type": "execute_result"
    }
   ],
   "source": [
    "nps = pd.read_csv('../../Desktop/nps_file.csv').drop(columns=['Feedback Id', 'Order Gmv'])\n",
    "\n",
    "nps.columns = nps.columns.str.replace(' ', '')\n",
    "\n",
    "\n",
    "nps.head(2)"
   ]
  },
  {
   "cell_type": "markdown",
   "id": "83347bdf",
   "metadata": {},
   "source": [
    "  ### Convert dtypes"
   ]
  },
  {
   "cell_type": "code",
   "execution_count": 13,
   "id": "3415e487",
   "metadata": {},
   "outputs": [],
   "source": [
    "\n",
    "# Convert the categorical columns to category data type\n",
    "\n",
    "categorical_columns = ['OrderType',\n",
    "                     'OrderIsUser',\n",
    "                     'OrderIsGift',\n",
    "                     'GifterStatus',\n",
    "                     'UserStatus'\n",
    "]\n",
    "\n",
    "for col in categorical_columns:\n",
    "    nps[col] = nps[col].astype(\"category\")\n",
    "\n",
    "\n",
    "# Convert the boolean columns to bool data type    \n",
    "bool_columns = ['LeftDetractorResponse',\n",
    "                'SingleSuborder',\n",
    "                'OrderIsWl',\n",
    "                'OrderIsEgiftRedemption',\n",
    "                \n",
    "]\n",
    "\n",
    "for col in bool_columns:\n",
    "    nps[col] = nps[col].astype('bool')\n",
    "\n"
   ]
  },
  {
   "cell_type": "markdown",
   "id": "4a7d67c1",
   "metadata": {},
   "source": [
    "## Split data"
   ]
  },
  {
   "cell_type": "code",
   "execution_count": 14,
   "id": "db15c6ef",
   "metadata": {},
   "outputs": [
    {
     "data": {
      "text/plain": [
       "[(9324, 7), (2332, 7), (9324,), (2332,)]"
      ]
     },
     "execution_count": 14,
     "metadata": {},
     "output_type": "execute_result"
    }
   ],
   "source": [
    "\n",
    "X = nps.drop(columns='LeftDetractorResponse')\n",
    "y = nps.LeftDetractorResponse\n",
    "\n",
    "X_train, X_test, y_train,y_test = train_test_split(X,y,test_size = 0.2, stratify = y, random_state = 8)\n",
    "\n",
    "\n",
    "\n",
    "[nps.shape for nps in (X_train, X_test, y_train, y_test)]"
   ]
  },
  {
   "cell_type": "code",
   "execution_count": null,
   "id": "f722a605",
   "metadata": {},
   "outputs": [],
   "source": []
  },
  {
   "cell_type": "markdown",
   "id": "4f14ddfb",
   "metadata": {},
   "source": [
    "### Not sure what this next step is doing\n",
    "#### copied from a tutorial on training xgboost model"
   ]
  },
  {
   "cell_type": "code",
   "execution_count": 15,
   "id": "e9c07fbe",
   "metadata": {},
   "outputs": [],
   "source": [
    "from sklearn.pipeline import Pipeline\n",
    "from category_encoders.target_encoder import TargetEncoder\n",
    "from xgboost import XGBClassifier\n",
    "\n",
    "estimators = [\n",
    "    ('encoder',TargetEncoder()),\n",
    "    ('clf',XGBClassifier(random_state=8))\n",
    "]\n",
    "\n",
    "pipe = Pipeline(steps=estimators)"
   ]
  },
  {
   "cell_type": "markdown",
   "id": "b9126320",
   "metadata": {},
   "source": [
    "## Train XGBoost model"
   ]
  },
  {
   "cell_type": "markdown",
   "id": "42a913d6",
   "metadata": {},
   "source": [
    "#### I copied this code from our hackathon, and I am not sure what each step is doing"
   ]
  },
  {
   "cell_type": "code",
   "execution_count": 16,
   "id": "fd0d280a",
   "metadata": {},
   "outputs": [],
   "source": [
    "# Specify the model hyperparameters\n",
    "params={ 'objective': 'binary:logistic',\n",
    "        \"eval_metric\": \"auc\", #\"logloss\",\n",
    "        \"tree_method\": 'hist',\n",
    "        \"n_estimators\": 100,\n",
    "        \"max_depth\": 5,\n",
    "        \"early_stopping_rounds\": 10,\n",
    "        \"verbosity\": 1\n",
    "       }"
   ]
  },
  {
   "cell_type": "code",
   "execution_count": 17,
   "id": "0795860b",
   "metadata": {},
   "outputs": [
    {
     "name": "stdout",
     "output_type": "stream",
     "text": [
      "[0]\tvalidation_0-auc:0.56268\n",
      "[1]\tvalidation_0-auc:0.56304\n",
      "[2]\tvalidation_0-auc:0.56327\n",
      "[3]\tvalidation_0-auc:0.56204\n",
      "[4]\tvalidation_0-auc:0.56408\n",
      "[5]\tvalidation_0-auc:0.56265\n",
      "[6]\tvalidation_0-auc:0.56333\n",
      "[7]\tvalidation_0-auc:0.56366\n",
      "[8]\tvalidation_0-auc:0.56133\n",
      "[9]\tvalidation_0-auc:0.56108\n",
      "[10]\tvalidation_0-auc:0.56289\n",
      "[11]\tvalidation_0-auc:0.56355\n",
      "[12]\tvalidation_0-auc:0.56667\n",
      "[13]\tvalidation_0-auc:0.56578\n",
      "[14]\tvalidation_0-auc:0.56581\n",
      "[15]\tvalidation_0-auc:0.56686\n",
      "[16]\tvalidation_0-auc:0.56596\n",
      "[17]\tvalidation_0-auc:0.56595\n",
      "[18]\tvalidation_0-auc:0.56604\n",
      "[19]\tvalidation_0-auc:0.56349\n",
      "[20]\tvalidation_0-auc:0.56363\n",
      "[21]\tvalidation_0-auc:0.56378\n",
      "[22]\tvalidation_0-auc:0.56384\n",
      "[23]\tvalidation_0-auc:0.56329\n",
      "[24]\tvalidation_0-auc:0.56328\n"
     ]
    },
    {
     "data": {
      "text/html": [
       "<style>#sk-container-id-2 {color: black;background-color: white;}#sk-container-id-2 pre{padding: 0;}#sk-container-id-2 div.sk-toggleable {background-color: white;}#sk-container-id-2 label.sk-toggleable__label {cursor: pointer;display: block;width: 100%;margin-bottom: 0;padding: 0.3em;box-sizing: border-box;text-align: center;}#sk-container-id-2 label.sk-toggleable__label-arrow:before {content: \"▸\";float: left;margin-right: 0.25em;color: #696969;}#sk-container-id-2 label.sk-toggleable__label-arrow:hover:before {color: black;}#sk-container-id-2 div.sk-estimator:hover label.sk-toggleable__label-arrow:before {color: black;}#sk-container-id-2 div.sk-toggleable__content {max-height: 0;max-width: 0;overflow: hidden;text-align: left;background-color: #f0f8ff;}#sk-container-id-2 div.sk-toggleable__content pre {margin: 0.2em;color: black;border-radius: 0.25em;background-color: #f0f8ff;}#sk-container-id-2 input.sk-toggleable__control:checked~div.sk-toggleable__content {max-height: 200px;max-width: 100%;overflow: auto;}#sk-container-id-2 input.sk-toggleable__control:checked~label.sk-toggleable__label-arrow:before {content: \"▾\";}#sk-container-id-2 div.sk-estimator input.sk-toggleable__control:checked~label.sk-toggleable__label {background-color: #d4ebff;}#sk-container-id-2 div.sk-label input.sk-toggleable__control:checked~label.sk-toggleable__label {background-color: #d4ebff;}#sk-container-id-2 input.sk-hidden--visually {border: 0;clip: rect(1px 1px 1px 1px);clip: rect(1px, 1px, 1px, 1px);height: 1px;margin: -1px;overflow: hidden;padding: 0;position: absolute;width: 1px;}#sk-container-id-2 div.sk-estimator {font-family: monospace;background-color: #f0f8ff;border: 1px dotted black;border-radius: 0.25em;box-sizing: border-box;margin-bottom: 0.5em;}#sk-container-id-2 div.sk-estimator:hover {background-color: #d4ebff;}#sk-container-id-2 div.sk-parallel-item::after {content: \"\";width: 100%;border-bottom: 1px solid gray;flex-grow: 1;}#sk-container-id-2 div.sk-label:hover label.sk-toggleable__label {background-color: #d4ebff;}#sk-container-id-2 div.sk-serial::before {content: \"\";position: absolute;border-left: 1px solid gray;box-sizing: border-box;top: 0;bottom: 0;left: 50%;z-index: 0;}#sk-container-id-2 div.sk-serial {display: flex;flex-direction: column;align-items: center;background-color: white;padding-right: 0.2em;padding-left: 0.2em;position: relative;}#sk-container-id-2 div.sk-item {position: relative;z-index: 1;}#sk-container-id-2 div.sk-parallel {display: flex;align-items: stretch;justify-content: center;background-color: white;position: relative;}#sk-container-id-2 div.sk-item::before, #sk-container-id-2 div.sk-parallel-item::before {content: \"\";position: absolute;border-left: 1px solid gray;box-sizing: border-box;top: 0;bottom: 0;left: 50%;z-index: -1;}#sk-container-id-2 div.sk-parallel-item {display: flex;flex-direction: column;z-index: 1;position: relative;background-color: white;}#sk-container-id-2 div.sk-parallel-item:first-child::after {align-self: flex-end;width: 50%;}#sk-container-id-2 div.sk-parallel-item:last-child::after {align-self: flex-start;width: 50%;}#sk-container-id-2 div.sk-parallel-item:only-child::after {width: 0;}#sk-container-id-2 div.sk-dashed-wrapped {border: 1px dashed gray;margin: 0 0.4em 0.5em 0.4em;box-sizing: border-box;padding-bottom: 0.4em;background-color: white;}#sk-container-id-2 div.sk-label label {font-family: monospace;font-weight: bold;display: inline-block;line-height: 1.2em;}#sk-container-id-2 div.sk-label-container {text-align: center;}#sk-container-id-2 div.sk-container {/* jupyter's `normalize.less` sets `[hidden] { display: none; }` but bootstrap.min.css set `[hidden] { display: none !important; }` so we also need the `!important` here to be able to override the default hidden behavior on the sphinx rendered scikit-learn.org. See: https://github.com/scikit-learn/scikit-learn/issues/21755 */display: inline-block !important;position: relative;}#sk-container-id-2 div.sk-text-repr-fallback {display: none;}</style><div id=\"sk-container-id-2\" class=\"sk-top-container\"><div class=\"sk-text-repr-fallback\"><pre>XGBClassifier(base_score=None, booster=None, callbacks=None,\n",
       "              colsample_bylevel=None, colsample_bynode=None,\n",
       "              colsample_bytree=None, device=None, early_stopping_rounds=10,\n",
       "              enable_categorical=True, eval_metric=&#x27;auc&#x27;, feature_types=None,\n",
       "              gamma=None, grow_policy=None, importance_type=None,\n",
       "              interaction_constraints=None, learning_rate=None, max_bin=None,\n",
       "              max_cat_threshold=None, max_cat_to_onehot=None,\n",
       "              max_delta_step=None, max_depth=5, max_leaves=None,\n",
       "              min_child_weight=None, missing=nan, monotone_constraints=None,\n",
       "              multi_strategy=None, n_estimators=100, n_jobs=None,\n",
       "              num_parallel_tree=None, random_state=None, ...)</pre><b>In a Jupyter environment, please rerun this cell to show the HTML representation or trust the notebook. <br />On GitHub, the HTML representation is unable to render, please try loading this page with nbviewer.org.</b></div><div class=\"sk-container\" hidden><div class=\"sk-item\"><div class=\"sk-estimator sk-toggleable\"><input class=\"sk-toggleable__control sk-hidden--visually\" id=\"sk-estimator-id-2\" type=\"checkbox\" checked><label for=\"sk-estimator-id-2\" class=\"sk-toggleable__label sk-toggleable__label-arrow\">XGBClassifier</label><div class=\"sk-toggleable__content\"><pre>XGBClassifier(base_score=None, booster=None, callbacks=None,\n",
       "              colsample_bylevel=None, colsample_bynode=None,\n",
       "              colsample_bytree=None, device=None, early_stopping_rounds=10,\n",
       "              enable_categorical=True, eval_metric=&#x27;auc&#x27;, feature_types=None,\n",
       "              gamma=None, grow_policy=None, importance_type=None,\n",
       "              interaction_constraints=None, learning_rate=None, max_bin=None,\n",
       "              max_cat_threshold=None, max_cat_to_onehot=None,\n",
       "              max_delta_step=None, max_depth=5, max_leaves=None,\n",
       "              min_child_weight=None, missing=nan, monotone_constraints=None,\n",
       "              multi_strategy=None, n_estimators=100, n_jobs=None,\n",
       "              num_parallel_tree=None, random_state=None, ...)</pre></div></div></div></div></div>"
      ],
      "text/plain": [
       "XGBClassifier(base_score=None, booster=None, callbacks=None,\n",
       "              colsample_bylevel=None, colsample_bynode=None,\n",
       "              colsample_bytree=None, device=None, early_stopping_rounds=10,\n",
       "              enable_categorical=True, eval_metric='auc', feature_types=None,\n",
       "              gamma=None, grow_policy=None, importance_type=None,\n",
       "              interaction_constraints=None, learning_rate=None, max_bin=None,\n",
       "              max_cat_threshold=None, max_cat_to_onehot=None,\n",
       "              max_delta_step=None, max_depth=5, max_leaves=None,\n",
       "              min_child_weight=None, missing=nan, monotone_constraints=None,\n",
       "              multi_strategy=None, n_estimators=100, n_jobs=None,\n",
       "              num_parallel_tree=None, random_state=None, ...)"
      ]
     },
     "execution_count": 17,
     "metadata": {},
     "output_type": "execute_result"
    }
   ],
   "source": [
    "clf = xgb.XGBClassifier(**params, enable_categorical=True)\n",
    "clf.fit(X_train, y_train, eval_set=[(X_test, y_test)], verbose=True)\n",
    "# clf.save_model(Path(saved_models_path, f\"xgboost_categorical_model_{current_time}.json\"))"
   ]
  },
  {
   "cell_type": "code",
   "execution_count": 18,
   "id": "948c41f0",
   "metadata": {},
   "outputs": [
    {
     "data": {
      "text/plain": [
       "array([0.20076205, 0.06856543, 0.        , 0.08154932, 0.44544894,\n",
       "       0.        , 0.20367427], dtype=float32)"
      ]
     },
     "execution_count": 18,
     "metadata": {},
     "output_type": "execute_result"
    }
   ],
   "source": [
    "clf.feature_importances_"
   ]
  },
  {
   "cell_type": "code",
   "execution_count": 19,
   "id": "6a253e29",
   "metadata": {},
   "outputs": [
    {
     "data": {
      "image/png": "[encoded data removed]",
      "text/plain": [
       "<Figure size 640x480 with 1 Axes>"
      ]
     },
     "metadata": {},
     "output_type": "display_data"
    }
   ],
   "source": [
    "sorted_idx = clf.feature_importances_.argsort()\n",
    "plt.barh(X.columns[sorted_idx], clf.feature_importances_[sorted_idx])\n",
    "plt.title(\"Feature Importance in making the predictions\")\n",
    "plt.tight_layout()"
   ]
  },
  {
   "cell_type": "code",
   "execution_count": null,
   "id": "cad0e6be",
   "metadata": {},
   "outputs": [],
   "source": []
  },
  {
   "cell_type": "code",
   "execution_count": null,
   "id": "6c6dd190",
   "metadata": {},
   "outputs": [],
   "source": []
  },
  {
   "cell_type": "code",
   "execution_count": null,
   "id": "91783280",
   "metadata": {},
   "outputs": [],
   "source": []
  },
  {
   "cell_type": "code",
   "execution_count": null,
   "id": "9cf8593a",
   "metadata": {},
   "outputs": [],
   "source": []
  },
  {
   "cell_type": "code",
   "execution_count": null,
   "id": "5d2ae91e",
   "metadata": {},
   "outputs": [],
   "source": []
  },
  {
   "cell_type": "code",
   "execution_count": null,
   "id": "667b5b6d",
   "metadata": {},
   "outputs": [],
   "source": []
  },
  {
   "cell_type": "code",
   "execution_count": 10,
   "id": "70bfee0b",
   "metadata": {},
   "outputs": [],
   "source": [
    "\n",
    "\n",
    "\n",
    "\n",
    "# should I avoid importing packages outside of a virtual env \n",
    "# estimator/pipe step \n",
    "# hyperparameter tuning? "
   ]
  },
  {
   "cell_type": "code",
   "execution_count": null,
   "id": "6513ed97",
   "metadata": {},
   "outputs": [],
   "source": []
  }
 ],
 "metadata": {
  "kernelspec": {
   "display_name": "Python 3 (ipykernel)",
   "language": "python",
   "name": "python3"
  },
  "language_info": {
   "codemirror_mode": {
    "name": "ipython",
    "version": 3
   },
   "file_extension": ".py",
   "mimetype": "text/x-python",
   "name": "python",
   "nbconvert_exporter": "python",
   "pygments_lexer": "ipython3",
   "version": "3.11.7"
  }
 },
 "nbformat": 4,
 "nbformat_minor": 5
}
